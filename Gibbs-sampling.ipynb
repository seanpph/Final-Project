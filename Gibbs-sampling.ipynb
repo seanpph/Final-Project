{
 "cells": [
  {
   "cell_type": "markdown",
   "metadata": {
    "collapsed": true
   },
   "source": [
    "# Gibbs sampling"
   ]
  },
  {
   "cell_type": "markdown",
   "metadata": {},
   "source": [
    "*PoHsiang Peng, Jinjie Zhang*"
   ]
  },
  {
   "cell_type": "markdown",
   "metadata": {},
   "source": [
    "## Problem 1"
   ]
  },
  {
   "cell_type": "markdown",
   "metadata": {
    "collapsed": true
   },
   "source": [
    "First we need to know how to draw samples from $p(x|y)$ given $y$. Note that\n",
    "If $p(x|\\lambda)\\propto\\lambda e^{-\\lambda x}$ for $0<x<\\alpha$, then we have\n",
    "\n",
    "$$F(x)=\\frac{1-e^{-\\lambda x}}{1-e^{-\\lambda \\alpha}}$$\n",
    "Thus, we can draw samples from $p(x|y)$ given $y$ by\n",
    "$$x_i=-\\frac{1}{\\lambda}\\log[1-u_i(1-e^{-\\lambda \\alpha})]$$\n",
    "where $u_i$ is the uniform random number. This is exactly the same as drawing samples from $p(y|x)$ given $x$, because of symmetry."
   ]
  },
  {
   "cell_type": "markdown",
   "metadata": {},
   "source": [
    "Now we are ready to implement Gibbs sampling. At first, we need to assign initial values. Here, $x_0=1$ and $y_0=1$ will be used. Then, repeat the following\n",
    "  1. Draw $x_i$ from $p(x|y_{i-1})$\n",
    "  2. Draw $y_i$ from $p(y|x_i)$"
   ]
  },
  {
   "cell_type": "code",
   "execution_count": 1,
   "metadata": {
    "collapsed": true
   },
   "outputs": [],
   "source": [
    "import numpy as np\n",
    "import matplotlib.pyplot as plt\n",
    "\n",
    "def draw(theta,a):\n",
    "    \"\"\"\n",
    "    Draw samples from $p(x|theta)$ for $0<x<a$\n",
    "    \"\"\"\n",
    "    u = np.random.uniform(0,1)\n",
    "    return(-(1/theta)*np.log(1-u*(1-np.exp(-theta*a))))\n",
    "\n",
    "def Gibbs(initial,n,B,seed=123):\n",
    "    \"\"\"\n",
    "    @initial: initial value for Gibbs sampling\n",
    "    @n: number of samples\n",
    "    @B: bound for truncated exponential dist'n\n",
    "    \"\"\"\n",
    "    np.random.seed(seed)\n",
    "    samples = np.zeros([n,2])\n",
    "    samples[0,0] = initial[0]\n",
    "    samples[0,1] = initial[1]\n",
    "    \n",
    "    for i in range(1,n):\n",
    "        samples[i,0] = draw(samples[i-1,1],B)\n",
    "        samples[i,1] = draw(samples[i,0],B)\n",
    "    \n",
    "    return(samples)"
   ]
  },
  {
   "cell_type": "markdown",
   "metadata": {},
   "source": [
    "## Problem 2"
   ]
  },
  {
   "cell_type": "code",
   "execution_count": 2,
   "metadata": {
    "collapsed": true
   },
   "outputs": [],
   "source": [
    "samples1 = Gibbs(np.array([1,1]),500,5)\n",
    "samples2 = Gibbs(np.array([1,1]),5000,5)\n",
    "samples3 = Gibbs(np.array([1,1]),50000,5)"
   ]
  },
  {
   "cell_type": "code",
   "execution_count": 3,
   "metadata": {},
   "outputs": [
    {
     "data": {
      "image/png": "[encoded data removed]",
      "text/plain": [
       "<matplotlib.figure.Figure at 0x110d488d0>"
      ]
     },
     "metadata": {},
     "output_type": "display_data"
    },
    {
     "data": {
      "image/png": "[encoded data removed]",
      "text/plain": [
       "<matplotlib.figure.Figure at 0x10d8e6c88>"
      ]
     },
     "metadata": {},
     "output_type": "display_data"
    },
    {
     "data": {
      "image/png": "[encoded data removed]",
      "text/plain": [
       "<matplotlib.figure.Figure at 0x11941f390>"
      ]
     },
     "metadata": {},
     "output_type": "display_data"
    }
   ],
   "source": [
    "plt.figure(1)\n",
    "plt.hist(samples1[:,0])\n",
    "plt.title('T=500')\n",
    "\n",
    "plt.figure(2)\n",
    "plt.hist(samples2[:,0])\n",
    "plt.title('T=5000')\n",
    "\n",
    "plt.figure(3)\n",
    "plt.hist(samples3[:,0])\n",
    "plt.title('T=50000')\n",
    "plt.show()"
   ]
  },
  {
   "cell_type": "markdown",
   "metadata": {},
   "source": [
    "## Problem 3"
   ]
  },
  {
   "cell_type": "markdown",
   "metadata": {
    "collapsed": true
   },
   "source": [
    "Since the samples $(x_i,y_i)$ follows the point distribution $p(x,y)$, we can approximate $\\text{E}[X]$ as\n",
    "$$\\text{E}[X]\\approx\\frac{1}{n}\\sum_{i=1}^nx_i$$"
   ]
  },
  {
   "cell_type": "code",
   "execution_count": 4,
   "metadata": {},
   "outputs": [
    {
     "name": "stdout",
     "output_type": "stream",
     "text": [
      "T = 500:   E[X] = 1.2201\n",
      "T = 5000:  E[X] = 1.2690\n",
      "T = 50000: E[X] = 1.2720\n"
     ]
    }
   ],
   "source": [
    "mean1 = np.mean(samples1[:,0])\n",
    "mean2 = np.mean(samples2[:,0])\n",
    "mean3 = np.mean(samples3[:,0])\n",
    "print('T = 500:   E[X] = %.4f\\nT = 5000:  E[X] = %.4f\\nT = 50000: E[X] = %.4f'%(mean1,mean2,mean3))"
   ]
  },
  {
   "cell_type": "code",
   "execution_count": null,
   "metadata": {
    "collapsed": true
   },
   "outputs": [],
   "source": []
  }
 ],
 "metadata": {
  "kernelspec": {
   "display_name": "Python 3",
   "language": "python",
   "name": "python3"
  },
  "language_info": {
   "codemirror_mode": {
    "name": "ipython",
    "version": 3
   },
   "file_extension": ".py",
   "mimetype": "text/x-python",
   "name": "python",
   "nbconvert_exporter": "python",
   "pygments_lexer": "ipython3",
   "version": "3.6.2"
  }
 },
 "nbformat": 4,
 "nbformat_minor": 2
}
